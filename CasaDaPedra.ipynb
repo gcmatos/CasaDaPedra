{
 "cells": [
  {
   "cell_type": "markdown",
   "metadata": {},
   "source": [
    "# Casa da Pedra: \n",
    "## Análise Exploratória de Dados"
   ]
  },
  {
   "cell_type": "markdown",
   "metadata": {},
   "source": [
    "Análise dos dados do livro de registro utilizando Pandas e Matplotlib.\n",
    "Os dados utilizados foram cedidos pela equipe da Casa da Pedra, localizada no município de Santana do Cariri, sul do Ceará."
   ]
  },
  {
   "cell_type": "markdown",
   "metadata": {},
   "source": [
    "### 1. Preparação do Notebook"
   ]
  },
  {
   "cell_type": "code",
   "execution_count": 1,
   "metadata": {
    "collapsed": true
   },
   "outputs": [],
   "source": [
    "# Importação dos pacotes necessários\n",
    "from __future__ import division\n",
    "import numpy as np\n",
    "import pandas as pd"
   ]
  },
  {
   "cell_type": "code",
   "execution_count": 2,
   "metadata": {
    "collapsed": true
   },
   "outputs": [],
   "source": [
    "# Configuração das opções de output do Pandas\n",
    "pd.set_option('display.notebook_repr_html', True) # Visualização em formato de tabela <'True'>\n",
    "pd.set_option('display.max_columns', 10) # Máximo número de colunas\n",
    "pd.set_option('display.max_rows', 20) # Máximo número de linhas"
   ]
  },
  {
   "cell_type": "code",
   "execution_count": 3,
   "metadata": {
    "collapsed": true
   },
   "outputs": [],
   "source": [
    "# Biblioteca para plotar gráficos\n",
    "import matplotlib.pyplot as plt"
   ]
  },
  {
   "cell_type": "code",
   "execution_count": 4,
   "metadata": {
    "collapsed": true
   },
   "outputs": [],
   "source": [
    "%matplotlib inline"
   ]
  },
  {
   "cell_type": "code",
   "execution_count": 5,
   "metadata": {
    "collapsed": false
   },
   "outputs": [
    {
     "data": {
      "text/plain": [
       "u'/Users/gabrielcorreadematos/CasaDaPedra'"
      ]
     },
     "execution_count": 5,
     "metadata": {},
     "output_type": "execute_result"
    }
   ],
   "source": [
    "%pwd # Diretório atual"
   ]
  },
  {
   "cell_type": "code",
   "execution_count": 6,
   "metadata": {
    "collapsed": false
   },
   "outputs": [
    {
     "name": "stderr",
     "output_type": "stream",
     "text": [
      "//anaconda/lib/python2.7/site-packages/IPython/html.py:14: ShimWarning: The `IPython.html` package has been deprecated. You should import from `notebook` instead. `IPython.html.widgets` has moved to `ipywidgets`.\n",
      "  \"`IPython.html.widgets` has moved to `ipywidgets`.\", ShimWarning)\n"
     ]
    }
   ],
   "source": [
    "import seaborn as sns\n",
    "sns.set(color_codes=True)"
   ]
  },
  {
   "cell_type": "markdown",
   "metadata": {},
   "source": [
    "### 2. Importação dos dados"
   ]
  },
  {
   "cell_type": "code",
   "execution_count": 7,
   "metadata": {
    "collapsed": false
   },
   "outputs": [],
   "source": [
    "# Importar os dados\n",
    "df = pd.read_csv('/Users/gabrielcorreadematos/CasaDaPedra/CasaDaPedra.csv',\\\n",
    "                    parse_dates=True, infer_datetime_format=True)"
   ]
  },
  {
   "cell_type": "code",
   "execution_count": 8,
   "metadata": {
    "collapsed": false
   },
   "outputs": [
    {
     "data": {
      "text/html": [
       "<div>\n",
       "<table border=\"1\" class=\"dataframe\">\n",
       "  <thead>\n",
       "    <tr style=\"text-align: right;\">\n",
       "      <th></th>\n",
       "      <th>instituicao</th>\n",
       "      <th>nacionalidade</th>\n",
       "      <th>setor</th>\n",
       "      <th>n_pessoas</th>\n",
       "      <th>entrada</th>\n",
       "      <th>saida</th>\n",
       "    </tr>\n",
       "  </thead>\n",
       "  <tbody>\n",
       "    <tr>\n",
       "      <th>0</th>\n",
       "      <td>UFPI</td>\n",
       "      <td>Brasil</td>\n",
       "      <td>Geologia</td>\n",
       "      <td>42</td>\n",
       "      <td>01/07/2016</td>\n",
       "      <td>NaN</td>\n",
       "    </tr>\n",
       "    <tr>\n",
       "      <th>1</th>\n",
       "      <td>UFPE</td>\n",
       "      <td>Brasil</td>\n",
       "      <td>Geologia</td>\n",
       "      <td>6</td>\n",
       "      <td>13/07/2016</td>\n",
       "      <td>26/07/2016</td>\n",
       "    </tr>\n",
       "    <tr>\n",
       "      <th>2</th>\n",
       "      <td>BR</td>\n",
       "      <td>Brasil</td>\n",
       "      <td>Geologia</td>\n",
       "      <td>2</td>\n",
       "      <td>13/07/2016</td>\n",
       "      <td>26/07/2016</td>\n",
       "    </tr>\n",
       "    <tr>\n",
       "      <th>3</th>\n",
       "      <td>UT</td>\n",
       "      <td>EUA</td>\n",
       "      <td>Geologia</td>\n",
       "      <td>1</td>\n",
       "      <td>13/07/2016</td>\n",
       "      <td>26/07/2016</td>\n",
       "    </tr>\n",
       "    <tr>\n",
       "      <th>4</th>\n",
       "      <td>BR</td>\n",
       "      <td>Brasil</td>\n",
       "      <td>Geologia</td>\n",
       "      <td>1</td>\n",
       "      <td>01/08/2016</td>\n",
       "      <td>10/08/2016</td>\n",
       "    </tr>\n",
       "    <tr>\n",
       "      <th>5</th>\n",
       "      <td>UERJ</td>\n",
       "      <td>Brasil</td>\n",
       "      <td>Geologia</td>\n",
       "      <td>1</td>\n",
       "      <td>01/08/2016</td>\n",
       "      <td>10/08/2016</td>\n",
       "    </tr>\n",
       "    <tr>\n",
       "      <th>6</th>\n",
       "      <td>UT</td>\n",
       "      <td>EUA</td>\n",
       "      <td>Geologia</td>\n",
       "      <td>1</td>\n",
       "      <td>01/08/2016</td>\n",
       "      <td>10/08/2016</td>\n",
       "    </tr>\n",
       "    <tr>\n",
       "      <th>7</th>\n",
       "      <td>UFPI</td>\n",
       "      <td>Brasil</td>\n",
       "      <td>Geografia</td>\n",
       "      <td>8</td>\n",
       "      <td>28/09/2016</td>\n",
       "      <td>29/09/2016</td>\n",
       "    </tr>\n",
       "    <tr>\n",
       "      <th>8</th>\n",
       "      <td>UFG</td>\n",
       "      <td>Brasil</td>\n",
       "      <td>Geologia</td>\n",
       "      <td>7</td>\n",
       "      <td>NaN</td>\n",
       "      <td>NaN</td>\n",
       "    </tr>\n",
       "    <tr>\n",
       "      <th>9</th>\n",
       "      <td>UFRJ</td>\n",
       "      <td>Brasil</td>\n",
       "      <td>Geologia</td>\n",
       "      <td>1</td>\n",
       "      <td>NaN</td>\n",
       "      <td>NaN</td>\n",
       "    </tr>\n",
       "    <tr>\n",
       "      <th>10</th>\n",
       "      <td>UFC</td>\n",
       "      <td>Brasil</td>\n",
       "      <td>Geologia</td>\n",
       "      <td>4</td>\n",
       "      <td>NaN</td>\n",
       "      <td>NaN</td>\n",
       "    </tr>\n",
       "    <tr>\n",
       "      <th>11</th>\n",
       "      <td>Dresden</td>\n",
       "      <td>Alemanha</td>\n",
       "      <td>NaN</td>\n",
       "      <td>2</td>\n",
       "      <td>NaN</td>\n",
       "      <td>NaN</td>\n",
       "    </tr>\n",
       "    <tr>\n",
       "      <th>12</th>\n",
       "      <td>MFN</td>\n",
       "      <td>Alemanha</td>\n",
       "      <td>NaN</td>\n",
       "      <td>1</td>\n",
       "      <td>NaN</td>\n",
       "      <td>NaN</td>\n",
       "    </tr>\n",
       "    <tr>\n",
       "      <th>13</th>\n",
       "      <td>DNPM</td>\n",
       "      <td>Brasil</td>\n",
       "      <td>Geologia</td>\n",
       "      <td>1</td>\n",
       "      <td>NaN</td>\n",
       "      <td>NaN</td>\n",
       "    </tr>\n",
       "    <tr>\n",
       "      <th>14</th>\n",
       "      <td>UFRGS</td>\n",
       "      <td>Brasil</td>\n",
       "      <td>Geologia</td>\n",
       "      <td>1</td>\n",
       "      <td>NaN</td>\n",
       "      <td>NaN</td>\n",
       "    </tr>\n",
       "    <tr>\n",
       "      <th>15</th>\n",
       "      <td>UFPE</td>\n",
       "      <td>Brasil</td>\n",
       "      <td>Paleontologia</td>\n",
       "      <td>18</td>\n",
       "      <td>NaN</td>\n",
       "      <td>NaN</td>\n",
       "    </tr>\n",
       "    <tr>\n",
       "      <th>16</th>\n",
       "      <td>UFRJ</td>\n",
       "      <td>Brasil</td>\n",
       "      <td>Paleontologia</td>\n",
       "      <td>35</td>\n",
       "      <td>NaN</td>\n",
       "      <td>NaN</td>\n",
       "    </tr>\n",
       "  </tbody>\n",
       "</table>\n",
       "</div>"
      ],
      "text/plain": [
       "   instituicao nacionalidade          setor  n_pessoas     entrada       saida\n",
       "0         UFPI        Brasil       Geologia         42  01/07/2016         NaN\n",
       "1         UFPE        Brasil       Geologia          6  13/07/2016  26/07/2016\n",
       "2           BR        Brasil       Geologia          2  13/07/2016  26/07/2016\n",
       "3           UT           EUA       Geologia          1  13/07/2016  26/07/2016\n",
       "4           BR        Brasil       Geologia          1  01/08/2016  10/08/2016\n",
       "5         UERJ        Brasil       Geologia          1  01/08/2016  10/08/2016\n",
       "6           UT           EUA       Geologia          1  01/08/2016  10/08/2016\n",
       "7         UFPI        Brasil      Geografia          8  28/09/2016  29/09/2016\n",
       "8          UFG        Brasil       Geologia          7         NaN         NaN\n",
       "9         UFRJ        Brasil       Geologia          1         NaN         NaN\n",
       "10         UFC        Brasil       Geologia          4         NaN         NaN\n",
       "11     Dresden      Alemanha            NaN          2         NaN         NaN\n",
       "12         MFN      Alemanha            NaN          1         NaN         NaN\n",
       "13        DNPM        Brasil       Geologia          1         NaN         NaN\n",
       "14       UFRGS        Brasil       Geologia          1         NaN         NaN\n",
       "15        UFPE        Brasil  Paleontologia         18         NaN         NaN\n",
       "16        UFRJ        Brasil  Paleontologia         35         NaN         NaN"
      ]
     },
     "execution_count": 8,
     "metadata": {},
     "output_type": "execute_result"
    }
   ],
   "source": [
    "# Pré-visualização\n",
    "df"
   ]
  },
  {
   "cell_type": "markdown",
   "metadata": {},
   "source": [
    "Os valores núméricos nulos estão representados por NaN e as variáveis de tempo por NaT.\n",
    "Estes valores podem ser removidos com a função data.dropna()"
   ]
  },
  {
   "cell_type": "code",
   "execution_count": 9,
   "metadata": {
    "collapsed": false
   },
   "outputs": [
    {
     "data": {
      "text/html": [
       "<div>\n",
       "<table border=\"1\" class=\"dataframe\">\n",
       "  <thead>\n",
       "    <tr style=\"text-align: right;\">\n",
       "      <th></th>\n",
       "      <th>instituicao</th>\n",
       "      <th>nacionalidade</th>\n",
       "      <th>setor</th>\n",
       "      <th>n_pessoas</th>\n",
       "      <th>entrada</th>\n",
       "      <th>saida</th>\n",
       "    </tr>\n",
       "  </thead>\n",
       "  <tbody>\n",
       "    <tr>\n",
       "      <th>1</th>\n",
       "      <td>UFPE</td>\n",
       "      <td>Brasil</td>\n",
       "      <td>Geologia</td>\n",
       "      <td>6</td>\n",
       "      <td>13/07/2016</td>\n",
       "      <td>26/07/2016</td>\n",
       "    </tr>\n",
       "    <tr>\n",
       "      <th>2</th>\n",
       "      <td>BR</td>\n",
       "      <td>Brasil</td>\n",
       "      <td>Geologia</td>\n",
       "      <td>2</td>\n",
       "      <td>13/07/2016</td>\n",
       "      <td>26/07/2016</td>\n",
       "    </tr>\n",
       "    <tr>\n",
       "      <th>3</th>\n",
       "      <td>UT</td>\n",
       "      <td>EUA</td>\n",
       "      <td>Geologia</td>\n",
       "      <td>1</td>\n",
       "      <td>13/07/2016</td>\n",
       "      <td>26/07/2016</td>\n",
       "    </tr>\n",
       "    <tr>\n",
       "      <th>4</th>\n",
       "      <td>BR</td>\n",
       "      <td>Brasil</td>\n",
       "      <td>Geologia</td>\n",
       "      <td>1</td>\n",
       "      <td>01/08/2016</td>\n",
       "      <td>10/08/2016</td>\n",
       "    </tr>\n",
       "    <tr>\n",
       "      <th>5</th>\n",
       "      <td>UERJ</td>\n",
       "      <td>Brasil</td>\n",
       "      <td>Geologia</td>\n",
       "      <td>1</td>\n",
       "      <td>01/08/2016</td>\n",
       "      <td>10/08/2016</td>\n",
       "    </tr>\n",
       "    <tr>\n",
       "      <th>6</th>\n",
       "      <td>UT</td>\n",
       "      <td>EUA</td>\n",
       "      <td>Geologia</td>\n",
       "      <td>1</td>\n",
       "      <td>01/08/2016</td>\n",
       "      <td>10/08/2016</td>\n",
       "    </tr>\n",
       "    <tr>\n",
       "      <th>7</th>\n",
       "      <td>UFPI</td>\n",
       "      <td>Brasil</td>\n",
       "      <td>Geografia</td>\n",
       "      <td>8</td>\n",
       "      <td>28/09/2016</td>\n",
       "      <td>29/09/2016</td>\n",
       "    </tr>\n",
       "  </tbody>\n",
       "</table>\n",
       "</div>"
      ],
      "text/plain": [
       "  instituicao nacionalidade      setor  n_pessoas     entrada       saida\n",
       "1        UFPE        Brasil   Geologia          6  13/07/2016  26/07/2016\n",
       "2          BR        Brasil   Geologia          2  13/07/2016  26/07/2016\n",
       "3          UT           EUA   Geologia          1  13/07/2016  26/07/2016\n",
       "4          BR        Brasil   Geologia          1  01/08/2016  10/08/2016\n",
       "5        UERJ        Brasil   Geologia          1  01/08/2016  10/08/2016\n",
       "6          UT           EUA   Geologia          1  01/08/2016  10/08/2016\n",
       "7        UFPI        Brasil  Geografia          8  28/09/2016  29/09/2016"
      ]
     },
     "execution_count": 9,
     "metadata": {},
     "output_type": "execute_result"
    }
   ],
   "source": [
    "df.dropna()"
   ]
  },
  {
   "cell_type": "markdown",
   "metadata": {},
   "source": [
    "### 3. Análise Exploratória com Pandas e Seaborn"
   ]
  },
  {
   "cell_type": "markdown",
   "metadata": {},
   "source": [
    "Nesta etapa, as varávies são analisadas e classificadas de acordo com o tipo (categóricas ou numéricas), \n",
    "valores de tendência central (média, mediana) e dispersão (desvio padrão).\n",
    "A análise foi feita utilizando pacotes Python que oferecem recursos estatísticos e de visualização, \n",
    "como Pandas e Seaborne."
   ]
  },
  {
   "cell_type": "code",
   "execution_count": 10,
   "metadata": {
    "collapsed": false
   },
   "outputs": [
    {
     "name": "stdout",
     "output_type": "stream",
     "text": [
      "Numero de Linhas:  17\n",
      "Numero de Colunas:  6\n",
      "Dimensoes:  (17, 6)\n"
     ]
    }
   ],
   "source": [
    "# Dimensões da amostra\n",
    "print 'Numero de Linhas: ', len(df)\n",
    "print 'Numero de Colunas: ', len(df.columns)\n",
    "print 'Dimensoes: ', df.shape"
   ]
  },
  {
   "cell_type": "markdown",
   "metadata": {},
   "source": [
    "Determinar os tipos de variáveis com a função '.dtypes'"
   ]
  },
  {
   "cell_type": "code",
   "execution_count": 11,
   "metadata": {
    "collapsed": false
   },
   "outputs": [
    {
     "data": {
      "text/plain": [
       "instituicao      object\n",
       "nacionalidade    object\n",
       "setor            object\n",
       "n_pessoas         int64\n",
       "entrada          object\n",
       "saida            object\n",
       "dtype: object"
      ]
     },
     "execution_count": 11,
     "metadata": {},
     "output_type": "execute_result"
    }
   ],
   "source": [
    "df.dtypes"
   ]
  },
  {
   "cell_type": "code",
   "execution_count": 12,
   "metadata": {
    "collapsed": false
   },
   "outputs": [
    {
     "data": {
      "text/html": [
       "<div>\n",
       "<table border=\"1\" class=\"dataframe\">\n",
       "  <thead>\n",
       "    <tr style=\"text-align: right;\">\n",
       "      <th></th>\n",
       "      <th>n_pessoas</th>\n",
       "    </tr>\n",
       "  </thead>\n",
       "  <tbody>\n",
       "    <tr>\n",
       "      <th>count</th>\n",
       "      <td>17.000000</td>\n",
       "    </tr>\n",
       "    <tr>\n",
       "      <th>mean</th>\n",
       "      <td>7.764706</td>\n",
       "    </tr>\n",
       "    <tr>\n",
       "      <th>std</th>\n",
       "      <td>12.422406</td>\n",
       "    </tr>\n",
       "    <tr>\n",
       "      <th>min</th>\n",
       "      <td>1.000000</td>\n",
       "    </tr>\n",
       "    <tr>\n",
       "      <th>25%</th>\n",
       "      <td>1.000000</td>\n",
       "    </tr>\n",
       "    <tr>\n",
       "      <th>50%</th>\n",
       "      <td>2.000000</td>\n",
       "    </tr>\n",
       "    <tr>\n",
       "      <th>75%</th>\n",
       "      <td>7.000000</td>\n",
       "    </tr>\n",
       "    <tr>\n",
       "      <th>max</th>\n",
       "      <td>42.000000</td>\n",
       "    </tr>\n",
       "  </tbody>\n",
       "</table>\n",
       "</div>"
      ],
      "text/plain": [
       "       n_pessoas\n",
       "count  17.000000\n",
       "mean    7.764706\n",
       "std    12.422406\n",
       "min     1.000000\n",
       "25%     1.000000\n",
       "50%     2.000000\n",
       "75%     7.000000\n",
       "max    42.000000"
      ]
     },
     "execution_count": 12,
     "metadata": {},
     "output_type": "execute_result"
    }
   ],
   "source": [
    "# Resumo estatístico de variáveis numéricas\n",
    "df.describe()"
   ]
  },
  {
   "cell_type": "markdown",
   "metadata": {},
   "source": [
    "Apenas uma variável numérica (n_pessoas) foi encontrada no $DataFrame$"
   ]
  },
  {
   "cell_type": "code",
   "execution_count": 13,
   "metadata": {
    "collapsed": false
   },
   "outputs": [
    {
     "data": {
      "text/html": [
       "<div>\n",
       "<table border=\"1\" class=\"dataframe\">\n",
       "  <thead>\n",
       "    <tr style=\"text-align: right;\">\n",
       "      <th></th>\n",
       "      <th>entrada</th>\n",
       "      <th>saida</th>\n",
       "      <th>periodos</th>\n",
       "      <th>dias</th>\n",
       "    </tr>\n",
       "  </thead>\n",
       "  <tbody>\n",
       "    <tr>\n",
       "      <th>0</th>\n",
       "      <td>2016-07-01</td>\n",
       "      <td>NaT</td>\n",
       "      <td>NaT</td>\n",
       "      <td>NaN</td>\n",
       "    </tr>\n",
       "    <tr>\n",
       "      <th>1</th>\n",
       "      <td>2016-07-13</td>\n",
       "      <td>2016-07-26</td>\n",
       "      <td>13 days</td>\n",
       "      <td>13.0</td>\n",
       "    </tr>\n",
       "    <tr>\n",
       "      <th>2</th>\n",
       "      <td>2016-07-13</td>\n",
       "      <td>2016-07-26</td>\n",
       "      <td>13 days</td>\n",
       "      <td>13.0</td>\n",
       "    </tr>\n",
       "    <tr>\n",
       "      <th>3</th>\n",
       "      <td>2016-07-13</td>\n",
       "      <td>2016-07-26</td>\n",
       "      <td>13 days</td>\n",
       "      <td>13.0</td>\n",
       "    </tr>\n",
       "    <tr>\n",
       "      <th>4</th>\n",
       "      <td>2016-08-01</td>\n",
       "      <td>2016-08-10</td>\n",
       "      <td>9 days</td>\n",
       "      <td>9.0</td>\n",
       "    </tr>\n",
       "  </tbody>\n",
       "</table>\n",
       "</div>"
      ],
      "text/plain": [
       "     entrada      saida  periodos  dias\n",
       "0 2016-07-01        NaT       NaT   NaN\n",
       "1 2016-07-13 2016-07-26   13 days  13.0\n",
       "2 2016-07-13 2016-07-26   13 days  13.0\n",
       "3 2016-07-13 2016-07-26   13 days  13.0\n",
       "4 2016-08-01 2016-08-10    9 days   9.0"
      ]
     },
     "execution_count": 13,
     "metadata": {},
     "output_type": "execute_result"
    }
   ],
   "source": [
    "# Datas\n",
    "# Tranformar datas string em Timestamps\n",
    "df['entrada'] = pd.to_datetime(df['entrada'], dayfirst=True);\n",
    "df['saida'] = pd.to_datetime(df['saida'], dayfirst=True);\n",
    "\n",
    "# Calculando os períodos\n",
    "df['periodos'] = df.saida - df.entrada\n",
    "\n",
    "# Extrair número de dias dos períodos e utilizá-los como variável contínua\n",
    "df['dias'] = df['periodos'].dt.days\n",
    "df[['entrada', 'saida', 'periodos', 'dias']].head()"
   ]
  },
  {
   "cell_type": "markdown",
   "metadata": {},
   "source": [
    "Nesta etapa foram criadas duas novas variáveis ($features$):\n",
    "\n",
    "- Períodos ($TimeStamp$)\n",
    "- Dias ($Floating$)"
   ]
  },
  {
   "cell_type": "code",
   "execution_count": 14,
   "metadata": {
    "collapsed": false
   },
   "outputs": [
    {
     "name": "stderr",
     "output_type": "stream",
     "text": [
      "//anaconda/lib/python2.7/site-packages/numpy/lib/function_base.py:3834: RuntimeWarning: Invalid value encountered in percentile\n",
      "  RuntimeWarning)\n"
     ]
    },
    {
     "data": {
      "text/html": [
       "<div>\n",
       "<table border=\"1\" class=\"dataframe\">\n",
       "  <thead>\n",
       "    <tr style=\"text-align: right;\">\n",
       "      <th></th>\n",
       "      <th>n_pessoas</th>\n",
       "      <th>periodos</th>\n",
       "      <th>dias</th>\n",
       "    </tr>\n",
       "  </thead>\n",
       "  <tbody>\n",
       "    <tr>\n",
       "      <th>count</th>\n",
       "      <td>17.000000</td>\n",
       "      <td>7</td>\n",
       "      <td>7.000000</td>\n",
       "    </tr>\n",
       "    <tr>\n",
       "      <th>mean</th>\n",
       "      <td>7.764706</td>\n",
       "      <td>9 days 13:42:51.428571</td>\n",
       "      <td>9.571429</td>\n",
       "    </tr>\n",
       "    <tr>\n",
       "      <th>std</th>\n",
       "      <td>12.422406</td>\n",
       "      <td>4 days 06:37:41.940819</td>\n",
       "      <td>4.276180</td>\n",
       "    </tr>\n",
       "    <tr>\n",
       "      <th>min</th>\n",
       "      <td>1.000000</td>\n",
       "      <td>1 days 00:00:00</td>\n",
       "      <td>1.000000</td>\n",
       "    </tr>\n",
       "    <tr>\n",
       "      <th>25%</th>\n",
       "      <td>1.000000</td>\n",
       "      <td>9 days 00:00:00</td>\n",
       "      <td>NaN</td>\n",
       "    </tr>\n",
       "    <tr>\n",
       "      <th>50%</th>\n",
       "      <td>2.000000</td>\n",
       "      <td>9 days 00:00:00</td>\n",
       "      <td>NaN</td>\n",
       "    </tr>\n",
       "    <tr>\n",
       "      <th>75%</th>\n",
       "      <td>7.000000</td>\n",
       "      <td>13 days 00:00:00</td>\n",
       "      <td>NaN</td>\n",
       "    </tr>\n",
       "    <tr>\n",
       "      <th>max</th>\n",
       "      <td>42.000000</td>\n",
       "      <td>13 days 00:00:00</td>\n",
       "      <td>13.000000</td>\n",
       "    </tr>\n",
       "  </tbody>\n",
       "</table>\n",
       "</div>"
      ],
      "text/plain": [
       "       n_pessoas                periodos       dias\n",
       "count  17.000000                       7   7.000000\n",
       "mean    7.764706  9 days 13:42:51.428571   9.571429\n",
       "std    12.422406  4 days 06:37:41.940819   4.276180\n",
       "min     1.000000         1 days 00:00:00   1.000000\n",
       "25%     1.000000         9 days 00:00:00        NaN\n",
       "50%     2.000000         9 days 00:00:00        NaN\n",
       "75%     7.000000        13 days 00:00:00        NaN\n",
       "max    42.000000        13 days 00:00:00  13.000000"
      ]
     },
     "execution_count": 14,
     "metadata": {},
     "output_type": "execute_result"
    }
   ],
   "source": [
    "# Resumo estatístico de variáveis numéricas\n",
    "df.describe()"
   ]
  },
  {
   "cell_type": "markdown",
   "metadata": {},
   "source": [
    "### Variáveis categóricas"
   ]
  },
  {
   "cell_type": "markdown",
   "metadata": {},
   "source": [
    "Três variáveis no arquivo são do tipo categóricas (string):\n",
    "\n",
    " - Instituição\n",
    " - Nacionaliade\n",
    " - Setor\n",
    "\n",
    "Para cada linha no arquivo, temos: o registro da \"Instituição\", que pode ser de ensino, pesquisa ou empresa; a \"Nacionalidade\", que representa o país da Instituição e o \"Setor\" de conhecimento, ou área de estudo."
   ]
  },
  {
   "cell_type": "code",
   "execution_count": 15,
   "metadata": {
    "collapsed": false
   },
   "outputs": [
    {
     "data": {
      "text/plain": [
       "UFPI       2\n",
       "UT         2\n",
       "BR         2\n",
       "UFRJ       2\n",
       "UFPE       2\n",
       "UFG        1\n",
       "MFN        1\n",
       "DNPM       1\n",
       "UFC        1\n",
       "UERJ       1\n",
       "Dresden    1\n",
       "UFRGS      1\n",
       "Name: instituicao, dtype: int64"
      ]
     },
     "execution_count": 15,
     "metadata": {},
     "output_type": "execute_result"
    }
   ],
   "source": [
    "# Instituição\n",
    "df['instituicao'].value_counts()"
   ]
  },
  {
   "cell_type": "code",
   "execution_count": 16,
   "metadata": {
    "collapsed": false
   },
   "outputs": [
    {
     "data": {
      "text/plain": [
       "Brasil      13\n",
       "Alemanha     2\n",
       "EUA          2\n",
       "Name: nacionalidade, dtype: int64"
      ]
     },
     "execution_count": 16,
     "metadata": {},
     "output_type": "execute_result"
    }
   ],
   "source": [
    "# Nacionalidade\n",
    "df['nacionalidade'].value_counts()"
   ]
  },
  {
   "cell_type": "code",
   "execution_count": 17,
   "metadata": {
    "collapsed": false
   },
   "outputs": [
    {
     "data": {
      "text/plain": [
       "Geologia         12\n",
       "Paleontologia     2\n",
       "Geografia         1\n",
       "Name: setor, dtype: int64"
      ]
     },
     "execution_count": 17,
     "metadata": {},
     "output_type": "execute_result"
    }
   ],
   "source": [
    "# Setor\n",
    "df['setor'].value_counts()"
   ]
  },
  {
   "cell_type": "markdown",
   "metadata": {},
   "source": [
    "### Agrupamento dos dados "
   ]
  },
  {
   "cell_type": "markdown",
   "metadata": {},
   "source": [
    "Agrupamento de dados é uma técnica fundamental para analisar a relação numérica entre as variáveis categóricas. Em outras palavras, é uma forma de estudar as propriedades de cada classe de uma variável categórica. \n",
    "\n",
    "O agrupamento pode ser feito com o Pandas, utilizando as funções 'groupby' ou 'pivot_table', que gera novas 'Series' e 'DataFrames'.\n",
    "\n",
    "As Series criadas pelo agrupamento podem ser reordenadas pelo somatório do número de pessoas para poderem ser visualizadas nos gráficos em ordem crescente ou descrescente."
   ]
  },
  {
   "cell_type": "code",
   "execution_count": 18,
   "metadata": {
    "collapsed": false
   },
   "outputs": [
    {
     "data": {
      "text/html": [
       "<div>\n",
       "<table border=\"1\" class=\"dataframe\">\n",
       "  <thead>\n",
       "    <tr style=\"text-align: right;\">\n",
       "      <th></th>\n",
       "      <th>dias</th>\n",
       "      <th>n_pessoas</th>\n",
       "    </tr>\n",
       "    <tr>\n",
       "      <th>instituicao</th>\n",
       "      <th></th>\n",
       "      <th></th>\n",
       "    </tr>\n",
       "  </thead>\n",
       "  <tbody>\n",
       "    <tr>\n",
       "      <th>UFPI</th>\n",
       "      <td>1.0</td>\n",
       "      <td>50</td>\n",
       "    </tr>\n",
       "    <tr>\n",
       "      <th>UFRJ</th>\n",
       "      <td>NaN</td>\n",
       "      <td>36</td>\n",
       "    </tr>\n",
       "    <tr>\n",
       "      <th>UFPE</th>\n",
       "      <td>13.0</td>\n",
       "      <td>24</td>\n",
       "    </tr>\n",
       "    <tr>\n",
       "      <th>UFG</th>\n",
       "      <td>NaN</td>\n",
       "      <td>7</td>\n",
       "    </tr>\n",
       "    <tr>\n",
       "      <th>UFC</th>\n",
       "      <td>NaN</td>\n",
       "      <td>4</td>\n",
       "    </tr>\n",
       "    <tr>\n",
       "      <th>BR</th>\n",
       "      <td>22.0</td>\n",
       "      <td>3</td>\n",
       "    </tr>\n",
       "    <tr>\n",
       "      <th>Dresden</th>\n",
       "      <td>NaN</td>\n",
       "      <td>2</td>\n",
       "    </tr>\n",
       "    <tr>\n",
       "      <th>UT</th>\n",
       "      <td>22.0</td>\n",
       "      <td>2</td>\n",
       "    </tr>\n",
       "    <tr>\n",
       "      <th>DNPM</th>\n",
       "      <td>NaN</td>\n",
       "      <td>1</td>\n",
       "    </tr>\n",
       "    <tr>\n",
       "      <th>MFN</th>\n",
       "      <td>NaN</td>\n",
       "      <td>1</td>\n",
       "    </tr>\n",
       "    <tr>\n",
       "      <th>UERJ</th>\n",
       "      <td>9.0</td>\n",
       "      <td>1</td>\n",
       "    </tr>\n",
       "    <tr>\n",
       "      <th>UFRGS</th>\n",
       "      <td>NaN</td>\n",
       "      <td>1</td>\n",
       "    </tr>\n",
       "  </tbody>\n",
       "</table>\n",
       "</div>"
      ],
      "text/plain": [
       "             dias  n_pessoas\n",
       "instituicao                 \n",
       "UFPI          1.0         50\n",
       "UFRJ          NaN         36\n",
       "UFPE         13.0         24\n",
       "UFG           NaN          7\n",
       "UFC           NaN          4\n",
       "BR           22.0          3\n",
       "Dresden       NaN          2\n",
       "UT           22.0          2\n",
       "DNPM          NaN          1\n",
       "MFN           NaN          1\n",
       "UERJ          9.0          1\n",
       "UFRGS         NaN          1"
      ]
     },
     "execution_count": 18,
     "metadata": {},
     "output_type": "execute_result"
    }
   ],
   "source": [
    "# Soma do número de pessoas por Instituição\n",
    "# Ordenando pelo número de pessoas\n",
    "instituicao_list = df.pivot_table(index='instituicao', aggfunc=sum)\\\n",
    "                        .sort_values(by='n_pessoas', ascending=False) \n",
    "instituicao_list"
   ]
  },
  {
   "cell_type": "code",
   "execution_count": 19,
   "metadata": {
    "collapsed": false
   },
   "outputs": [
    {
     "data": {
      "text/html": [
       "<div>\n",
       "<table border=\"1\" class=\"dataframe\">\n",
       "  <thead>\n",
       "    <tr style=\"text-align: right;\">\n",
       "      <th></th>\n",
       "      <th>n_pessoas</th>\n",
       "      <th>dias</th>\n",
       "    </tr>\n",
       "    <tr>\n",
       "      <th>setor</th>\n",
       "      <th></th>\n",
       "      <th></th>\n",
       "    </tr>\n",
       "  </thead>\n",
       "  <tbody>\n",
       "    <tr>\n",
       "      <th>Geologia</th>\n",
       "      <td>68</td>\n",
       "      <td>66.0</td>\n",
       "    </tr>\n",
       "    <tr>\n",
       "      <th>Paleontologia</th>\n",
       "      <td>53</td>\n",
       "      <td>NaN</td>\n",
       "    </tr>\n",
       "    <tr>\n",
       "      <th>Geografia</th>\n",
       "      <td>8</td>\n",
       "      <td>1.0</td>\n",
       "    </tr>\n",
       "  </tbody>\n",
       "</table>\n",
       "</div>"
      ],
      "text/plain": [
       "               n_pessoas  dias\n",
       "setor                         \n",
       "Geologia              68  66.0\n",
       "Paleontologia         53   NaN\n",
       "Geografia              8   1.0"
      ]
     },
     "execution_count": 19,
     "metadata": {},
     "output_type": "execute_result"
    }
   ],
   "source": [
    "# Soma do número de pessoas por área de conhecimento \n",
    "setor_list = df.groupby('setor')[['n_pessoas','dias']].sum()\\\n",
    "                  .sort_values(by='n_pessoas', ascending=False)\n",
    "setor_list"
   ]
  },
  {
   "cell_type": "code",
   "execution_count": 20,
   "metadata": {
    "collapsed": false
   },
   "outputs": [
    {
     "data": {
      "text/html": [
       "<div>\n",
       "<table border=\"1\" class=\"dataframe\">\n",
       "  <thead>\n",
       "    <tr style=\"text-align: right;\">\n",
       "      <th></th>\n",
       "      <th>n_pessoas</th>\n",
       "      <th>dias</th>\n",
       "    </tr>\n",
       "    <tr>\n",
       "      <th>nacionalidade</th>\n",
       "      <th></th>\n",
       "      <th></th>\n",
       "    </tr>\n",
       "  </thead>\n",
       "  <tbody>\n",
       "    <tr>\n",
       "      <th>Brasil</th>\n",
       "      <td>127</td>\n",
       "      <td>45.0</td>\n",
       "    </tr>\n",
       "    <tr>\n",
       "      <th>Alemanha</th>\n",
       "      <td>3</td>\n",
       "      <td>NaN</td>\n",
       "    </tr>\n",
       "    <tr>\n",
       "      <th>EUA</th>\n",
       "      <td>2</td>\n",
       "      <td>22.0</td>\n",
       "    </tr>\n",
       "  </tbody>\n",
       "</table>\n",
       "</div>"
      ],
      "text/plain": [
       "               n_pessoas  dias\n",
       "nacionalidade                 \n",
       "Brasil               127  45.0\n",
       "Alemanha               3   NaN\n",
       "EUA                    2  22.0"
      ]
     },
     "execution_count": 20,
     "metadata": {},
     "output_type": "execute_result"
    }
   ],
   "source": [
    "# Soma do número de pessoas por nacionalidade\n",
    "nacionalidade_list = df.groupby('nacionalidade')[['n_pessoas','dias']].sum()\\\n",
    "                .sort_values(by='n_pessoas', ascending=False)\n",
    "nacionalidade_list"
   ]
  },
  {
   "cell_type": "markdown",
   "metadata": {},
   "source": [
    "Seguindo com a análise das relações entre as variáveis numéricas e categorias."
   ]
  },
  {
   "cell_type": "code",
   "execution_count": 21,
   "metadata": {
    "collapsed": false,
    "scrolled": false
   },
   "outputs": [
    {
     "data": {
      "text/html": [
       "<div>\n",
       "<table border=\"1\" class=\"dataframe\">\n",
       "  <thead>\n",
       "    <tr>\n",
       "      <th></th>\n",
       "      <th colspan=\"3\" halign=\"left\">n_pessoas</th>\n",
       "      <th colspan=\"3\" halign=\"left\">dias</th>\n",
       "    </tr>\n",
       "    <tr>\n",
       "      <th>setor</th>\n",
       "      <th>Geografia</th>\n",
       "      <th>Geologia</th>\n",
       "      <th>Paleontologia</th>\n",
       "      <th>Geografia</th>\n",
       "      <th>Geologia</th>\n",
       "      <th>Paleontologia</th>\n",
       "    </tr>\n",
       "    <tr>\n",
       "      <th>instituicao</th>\n",
       "      <th></th>\n",
       "      <th></th>\n",
       "      <th></th>\n",
       "      <th></th>\n",
       "      <th></th>\n",
       "      <th></th>\n",
       "    </tr>\n",
       "  </thead>\n",
       "  <tbody>\n",
       "    <tr>\n",
       "      <th>BR</th>\n",
       "      <td>NaN</td>\n",
       "      <td>3.0</td>\n",
       "      <td>NaN</td>\n",
       "      <td>NaN</td>\n",
       "      <td>22.0</td>\n",
       "      <td>NaN</td>\n",
       "    </tr>\n",
       "    <tr>\n",
       "      <th>DNPM</th>\n",
       "      <td>NaN</td>\n",
       "      <td>1.0</td>\n",
       "      <td>NaN</td>\n",
       "      <td>NaN</td>\n",
       "      <td>NaN</td>\n",
       "      <td>NaN</td>\n",
       "    </tr>\n",
       "    <tr>\n",
       "      <th>UERJ</th>\n",
       "      <td>NaN</td>\n",
       "      <td>1.0</td>\n",
       "      <td>NaN</td>\n",
       "      <td>NaN</td>\n",
       "      <td>9.0</td>\n",
       "      <td>NaN</td>\n",
       "    </tr>\n",
       "    <tr>\n",
       "      <th>UFC</th>\n",
       "      <td>NaN</td>\n",
       "      <td>4.0</td>\n",
       "      <td>NaN</td>\n",
       "      <td>NaN</td>\n",
       "      <td>NaN</td>\n",
       "      <td>NaN</td>\n",
       "    </tr>\n",
       "    <tr>\n",
       "      <th>UFG</th>\n",
       "      <td>NaN</td>\n",
       "      <td>7.0</td>\n",
       "      <td>NaN</td>\n",
       "      <td>NaN</td>\n",
       "      <td>NaN</td>\n",
       "      <td>NaN</td>\n",
       "    </tr>\n",
       "    <tr>\n",
       "      <th>UFPE</th>\n",
       "      <td>NaN</td>\n",
       "      <td>6.0</td>\n",
       "      <td>18.0</td>\n",
       "      <td>NaN</td>\n",
       "      <td>13.0</td>\n",
       "      <td>NaN</td>\n",
       "    </tr>\n",
       "    <tr>\n",
       "      <th>UFPI</th>\n",
       "      <td>8.0</td>\n",
       "      <td>42.0</td>\n",
       "      <td>NaN</td>\n",
       "      <td>1.0</td>\n",
       "      <td>NaN</td>\n",
       "      <td>NaN</td>\n",
       "    </tr>\n",
       "    <tr>\n",
       "      <th>UFRGS</th>\n",
       "      <td>NaN</td>\n",
       "      <td>1.0</td>\n",
       "      <td>NaN</td>\n",
       "      <td>NaN</td>\n",
       "      <td>NaN</td>\n",
       "      <td>NaN</td>\n",
       "    </tr>\n",
       "    <tr>\n",
       "      <th>UFRJ</th>\n",
       "      <td>NaN</td>\n",
       "      <td>1.0</td>\n",
       "      <td>35.0</td>\n",
       "      <td>NaN</td>\n",
       "      <td>NaN</td>\n",
       "      <td>NaN</td>\n",
       "    </tr>\n",
       "    <tr>\n",
       "      <th>UT</th>\n",
       "      <td>NaN</td>\n",
       "      <td>2.0</td>\n",
       "      <td>NaN</td>\n",
       "      <td>NaN</td>\n",
       "      <td>22.0</td>\n",
       "      <td>NaN</td>\n",
       "    </tr>\n",
       "  </tbody>\n",
       "</table>\n",
       "</div>"
      ],
      "text/plain": [
       "            n_pessoas                             dias                       \n",
       "setor       Geografia Geologia Paleontologia Geografia Geologia Paleontologia\n",
       "instituicao                                                                  \n",
       "BR                NaN      3.0           NaN       NaN     22.0           NaN\n",
       "DNPM              NaN      1.0           NaN       NaN      NaN           NaN\n",
       "UERJ              NaN      1.0           NaN       NaN      9.0           NaN\n",
       "UFC               NaN      4.0           NaN       NaN      NaN           NaN\n",
       "UFG               NaN      7.0           NaN       NaN      NaN           NaN\n",
       "UFPE              NaN      6.0          18.0       NaN     13.0           NaN\n",
       "UFPI              8.0     42.0           NaN       1.0      NaN           NaN\n",
       "UFRGS             NaN      1.0           NaN       NaN      NaN           NaN\n",
       "UFRJ              NaN      1.0          35.0       NaN      NaN           NaN\n",
       "UT                NaN      2.0           NaN       NaN     22.0           NaN"
      ]
     },
     "execution_count": 21,
     "metadata": {},
     "output_type": "execute_result"
    }
   ],
   "source": [
    "# Criando DataFrame a partir do agrupamento de categorias \n",
    "# utilizando pivot_table\n",
    "df_pivot = df.pivot_table(index='instituicao', columns='setor', \\\n",
    "                                aggfunc={'n_pessoas':sum,'dias':sum})\n",
    "df_pivot"
   ]
  },
  {
   "cell_type": "markdown",
   "metadata": {},
   "source": [
    "### Visualização dos dados com Seaborn"
   ]
  },
  {
   "cell_type": "markdown",
   "metadata": {},
   "source": [
    " - Histogramas"
   ]
  },
  {
   "cell_type": "code",
   "execution_count": 22,
   "metadata": {
    "collapsed": false
   },
   "outputs": [
    {
     "data": {
      "image/png": "[encoded data removed]",
      "text/plain": [
       "<matplotlib.figure.Figure at 0x114c4ba50>"
      ]
     },
     "metadata": {},
     "output_type": "display_data"
    }
   ],
   "source": [
    "# Histograma do n_pessoas do df com Seaborn\n",
    "with sns.axes_style('white'):\n",
    "    sns.set_context(\"poster\");\n",
    "    h = sns.distplot(df['n_pessoas'], \\\n",
    "                     kde=False, \\\n",
    "                     axlabel=\"No. de pessoas\");"
   ]
  },
  {
   "cell_type": "code",
   "execution_count": 23,
   "metadata": {
    "collapsed": false
   },
   "outputs": [
    {
     "data": {
      "image/png": "[encoded data removed]",
      "text/plain": [
       "<matplotlib.figure.Figure at 0x116fd5490>"
      ]
     },
     "metadata": {},
     "output_type": "display_data"
    }
   ],
   "source": [
    "# Histograma do n_pessoas do df com Seaborn\n",
    "with sns.axes_style('white'):\n",
    "    sns.set_context(\"poster\");\n",
    "    h = sns.distplot(df['dias'].dropna(), \\\n",
    "                     kde=False, \\\n",
    "                     axlabel=\"Dias\");"
   ]
  },
  {
   "cell_type": "markdown",
   "metadata": {},
   "source": [
    " - Gráficos de barras"
   ]
  },
  {
   "cell_type": "code",
   "execution_count": 24,
   "metadata": {
    "collapsed": false,
    "scrolled": true
   },
   "outputs": [
    {
     "data": {
      "image/png": "[encoded data removed]",
      "text/plain": [
       "<matplotlib.figure.Figure at 0x1172b7290>"
      ]
     },
     "metadata": {},
     "output_type": "display_data"
    }
   ],
   "source": [
    "# Gráficos de barras com as somas do número de pessoas por \n",
    "# instituição\n",
    "with sns.axes_style('white'):\n",
    "    sns.set_context(\"poster\");\n",
    "    b = sns.factorplot(x='n_pessoas', y='instituicao', \\\n",
    "                       kind='bar', \\\n",
    "                       data=df, \\\n",
    "                       order=instituicao_list.index, \\\n",
    "                       aspect=1.5, size=5.5);\n",
    "plt.xlabel(\"No. de pessoas\");\n",
    "plt.ylabel(\"Instituicao\");"
   ]
  },
  {
   "cell_type": "code",
   "execution_count": 25,
   "metadata": {
    "collapsed": false
   },
   "outputs": [
    {
     "data": {
      "image/png": "[encoded data removed]",
      "text/plain": [
       "<matplotlib.figure.Figure at 0x117a9ba10>"
      ]
     },
     "metadata": {},
     "output_type": "display_data"
    }
   ],
   "source": [
    "with sns.axes_style('white'):\n",
    "    sns.set_context(\"poster\");\n",
    "    g = sns.barplot(x='n_pessoas', y='setor', \\\n",
    "            data=df, \\\n",
    "            order=setor_list.index, \\\n",
    "            estimator=np.sum);\n",
    "plt.xlabel(\"No. de pessoas\");\n",
    "plt.ylabel(\"Setor\");"
   ]
  },
  {
   "cell_type": "markdown",
   "metadata": {},
   "source": [
    "### Análise de correlação\n",
    "Para analisar a correlação entre as propriedades numéricas, podemos utilizar gráficos como:"
   ]
  },
  {
   "cell_type": "markdown",
   "metadata": {},
   "source": [
    " - Joint plots"
   ]
  },
  {
   "cell_type": "code",
   "execution_count": 26,
   "metadata": {
    "collapsed": false
   },
   "outputs": [
    {
     "data": {
      "image/png": "[encoded data removed]",
      "text/plain": [
       "<matplotlib.figure.Figure at 0x117cac550>"
      ]
     },
     "metadata": {},
     "output_type": "display_data"
    }
   ],
   "source": [
    "# Outra formatação do Joint plot\n",
    "with sns.axes_style('white'):\n",
    "    g = sns.jointplot('n_pessoas', 'dias', data=df, kind='kde')\n",
    "    g.set_axis_labels(\"No. de pesooas\", \"Dias\");"
   ]
  },
  {
   "cell_type": "code",
   "execution_count": 27,
   "metadata": {
    "collapsed": false
   },
   "outputs": [
    {
     "data": {
      "image/png": "[encoded data removed]",
      "text/plain": [
       "<matplotlib.figure.Figure at 0x1180f5c50>"
      ]
     },
     "metadata": {},
     "output_type": "display_data"
    }
   ],
   "source": [
    "with sns.axes_style('white'):\n",
    "    g = sns.jointplot('n_pessoas', 'dias', df, kind='reg')\n",
    "    g.set_axis_labels(\"No. de pesooas\", \"Dias\");"
   ]
  },
  {
   "cell_type": "markdown",
   "metadata": {},
   "source": [
    " - Pair plot"
   ]
  },
  {
   "cell_type": "code",
   "execution_count": 28,
   "metadata": {
    "collapsed": false
   },
   "outputs": [
    {
     "data": {
      "image/png": "[encoded data removed]",
      "text/plain": [
       "<matplotlib.figure.Figure at 0x1172c22d0>"
      ]
     },
     "metadata": {},
     "output_type": "display_data"
    }
   ],
   "source": [
    "with sns.axes_style('white'):\n",
    "    sns.pairplot(df.dropna(), hue='instituicao', size=2.5);"
   ]
  },
  {
   "cell_type": "markdown",
   "metadata": {},
   "source": [
    " - Histogramas facetados"
   ]
  },
  {
   "cell_type": "code",
   "execution_count": 29,
   "metadata": {
    "collapsed": false
   },
   "outputs": [
    {
     "data": {
      "image/png": "[encoded data removed]",
      "text/plain": [
       "<matplotlib.figure.Figure at 0x118a29150>"
      ]
     },
     "metadata": {},
     "output_type": "display_data"
    }
   ],
   "source": [
    "grid = sns.FacetGrid(df.dropna(), row='instituicao', col='setor', margin_titles=True)\n",
    "grid.map(plt.hist, 'n_pessoas', bins=np.linspace(0,10,20));"
   ]
  }
 ],
 "metadata": {
  "kernelspec": {
   "display_name": "Python 2",
   "language": "python",
   "name": "python2"
  },
  "language_info": {
   "codemirror_mode": {
    "name": "ipython",
    "version": 2
   },
   "file_extension": ".py",
   "mimetype": "text/x-python",
   "name": "python",
   "nbconvert_exporter": "python",
   "pygments_lexer": "ipython2",
   "version": "2.7.12"
  }
 },
 "nbformat": 4,
 "nbformat_minor": 1
}
